{
 "cells": [
  {
   "cell_type": "code",
   "execution_count": 1,
   "id": "50ea271b",
   "metadata": {},
   "outputs": [],
   "source": [
    "import openai\n",
    "import os\n",
    "\n",
    "from dotenv import load_dotenv, find_dotenv\n",
    "_ = load_dotenv(find_dotenv())\n",
    "\n",
    "openai.api_key  = os.getenv('OPENAI_API_KEY')"
   ]
  },
  {
   "cell_type": "code",
   "execution_count": 2,
   "id": "359c431a",
   "metadata": {},
   "outputs": [],
   "source": [
    "def get_completion(prompt, model=\"gpt-3.5-turbo\"):\n",
    "    messages = [{\"role\": \"assistant\", \"content\": prompt}]\n",
    "    response = openai.ChatCompletion.create(\n",
    "        model=model,\n",
    "        messages=messages,\n",
    "        temperature=0,\n",
    "    )\n",
    "    return response.choices[0].message[\"content\"]"
   ]
  },
  {
   "cell_type": "code",
   "execution_count": 11,
   "id": "88430a58",
   "metadata": {},
   "outputs": [
    {
     "name": "stdout",
     "output_type": "stream",
     "text": [
      "It's not chitchat\n"
     ]
    }
   ],
   "source": [
    "text = f\"\"\"\n",
    "Can you please help me to lift this ?\n",
    "\"\"\"\n",
    "prompt = f\"\"\"\n",
    "You will be provided with text delimited by triple quotes.\\\n",
    "You have to categorize the input sentence as chitchat or not.\\ \n",
    "If the provided sentence is chitchat it has to respond with “It’s chitchat” or “It’s not chitchat \\\n",
    "The examples for the same are mentioned below\n",
    "\n",
    "Text : Just had a bad leak come from the AC \n",
    "Your response : It’s not chitchat\n",
    "\n",
    "Text : Gotcha\n",
    "Your response : It’s chitchat\n",
    "\n",
    "Text : Hi\n",
    "Your response :It’s chitchat\n",
    "\n",
    "Text : Oh awesome\n",
    "Your response :It’s chitchat\n",
    "\n",
    "Text : Can anyone lift out cup table please?\n",
    "Your response :It’s not chitchat\n",
    "\n",
    "Text : It went 13 times back to back had to use emergency stop to get it to stop\n",
    "Your response :It’s not chitchat\n",
    "\n",
    "\n",
    "```{text}```\n",
    "\"\"\"\n",
    "response = get_completion(prompt)\n",
    "print(response)"
   ]
  },
  {
   "cell_type": "code",
   "execution_count": null,
   "id": "090078e7",
   "metadata": {},
   "outputs": [],
   "source": []
  }
 ],
 "metadata": {
  "kernelspec": {
   "display_name": "Python 3 (ipykernel)",
   "language": "python",
   "name": "python3"
  },
  "language_info": {
   "codemirror_mode": {
    "name": "ipython",
    "version": 3
   },
   "file_extension": ".py",
   "mimetype": "text/x-python",
   "name": "python",
   "nbconvert_exporter": "python",
   "pygments_lexer": "ipython3",
   "version": "3.11.4"
  }
 },
 "nbformat": 4,
 "nbformat_minor": 5
}
